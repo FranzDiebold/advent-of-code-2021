{
 "cells": [
  {
   "cell_type": "code",
   "execution_count": 1,
   "id": "c9be54b0",
   "metadata": {},
   "outputs": [],
   "source": [
    "from pyspark.sql import SparkSession, functions as F, Window"
   ]
  },
  {
   "cell_type": "code",
   "execution_count": 2,
   "id": "6e83fcdb",
   "metadata": {},
   "outputs": [
    {
     "name": "stderr",
     "output_type": "stream",
     "text": [
      "WARNING: An illegal reflective access operation has occurred\n",
      "WARNING: Illegal reflective access by org.apache.spark.unsafe.Platform (file:/usr/local/spark-3.2.0-bin-hadoop3.2/jars/spark-unsafe_2.12-3.2.0.jar) to constructor java.nio.DirectByteBuffer(long,int)\n",
      "WARNING: Please consider reporting this to the maintainers of org.apache.spark.unsafe.Platform\n",
      "WARNING: Use --illegal-access=warn to enable warnings of further illegal reflective access operations\n",
      "WARNING: All illegal access operations will be denied in a future release\n",
      "Using Spark's default log4j profile: org/apache/spark/log4j-defaults.properties\n",
      "Setting default log level to \"WARN\".\n",
      "To adjust logging level use sc.setLogLevel(newLevel). For SparkR, use setLogLevel(newLevel).\n",
      "21/12/02 11:40:56 WARN NativeCodeLoader: Unable to load native-hadoop library for your platform... using builtin-java classes where applicable\n"
     ]
    }
   ],
   "source": [
    "spark = SparkSession \\\n",
    "            .builder \\\n",
    "            .appName(\"advent-of-code-2021\") \\\n",
    "            .getOrCreate()"
   ]
  },
  {
   "cell_type": "code",
   "execution_count": 58,
   "id": "a1e95b97",
   "metadata": {},
   "outputs": [],
   "source": [
    "df_test = spark.read.text(\"test-input.txt\")\n",
    "df = spark.read.text(\"input.txt\")"
   ]
  },
  {
   "cell_type": "code",
   "execution_count": 64,
   "id": "5a6f7f1f",
   "metadata": {},
   "outputs": [
    {
     "name": "stdout",
     "output_type": "stream",
     "text": [
      "Solution: 1484118\n"
     ]
    }
   ],
   "source": [
    "# Part 1\n",
    "def part_1(df):\n",
    "    return df \\\n",
    "        .withColumn(\"direction\", F.split(df.value, \" \").getItem(0)) \\\n",
    "        .withColumn(\"distance\", F.split(df.value, \" \").getItem(1).cast(\"int\")) \\\n",
    "        .withColumn(\"dx\", F.when(F.col(\"direction\") == \"forward\", F.col(\"distance\")).otherwise(0)) \\\n",
    "        .withColumn(\"dy\", F.when(F.col(\"direction\") == \"down\", F.col(\"distance\"))\n",
    "                           .when(F.col(\"direction\") == \"up\", -1 * F.col(\"distance\"))\n",
    "                           .otherwise(0)) \\\n",
    "        .agg(\n",
    "            F.sum(F.col(\"dx\")).alias(\"x\"),\n",
    "            F.sum(F.col(\"dy\")).alias(\"y\")\n",
    "        ) \\\n",
    "        .withColumn(\"solution\", F.col(\"x\") * F.col(\"y\")) \\\n",
    "        .collect()[0][2]\n",
    "\n",
    "assert part_1(df_test) == 150\n",
    "\n",
    "print(f\"Solution: {part_1(df)}\")"
   ]
  },
  {
   "cell_type": "code",
   "execution_count": 67,
   "id": "be2ebba9",
   "metadata": {},
   "outputs": [
    {
     "name": "stderr",
     "output_type": "stream",
     "text": [
      "21/12/02 14:40:57 WARN WindowExec: No Partition Defined for Window operation! Moving all data to a single partition, this can cause serious performance degradation.\n",
      "21/12/02 14:40:57 WARN WindowExec: No Partition Defined for Window operation! Moving all data to a single partition, this can cause serious performance degradation.\n",
      "21/12/02 14:40:57 WARN WindowExec: No Partition Defined for Window operation! Moving all data to a single partition, this can cause serious performance degradation.\n",
      "21/12/02 14:40:57 WARN WindowExec: No Partition Defined for Window operation! Moving all data to a single partition, this can cause serious performance degradation.\n",
      "21/12/02 14:40:58 WARN WindowExec: No Partition Defined for Window operation! Moving all data to a single partition, this can cause serious performance degradation.\n",
      "21/12/02 14:40:58 WARN WindowExec: No Partition Defined for Window operation! Moving all data to a single partition, this can cause serious performance degradation.\n",
      "21/12/02 14:40:58 WARN WindowExec: No Partition Defined for Window operation! Moving all data to a single partition, this can cause serious performance degradation.\n",
      "21/12/02 14:40:58 WARN WindowExec: No Partition Defined for Window operation! Moving all data to a single partition, this can cause serious performance degradation.\n"
     ]
    },
    {
     "name": "stdout",
     "output_type": "stream",
     "text": [
      "Solution: 1463827010\n"
     ]
    }
   ],
   "source": [
    "# Part 2\n",
    "def part_2(df):\n",
    "    return df \\\n",
    "        .withColumn(\"direction\", F.split(df.value, \" \").getItem(0)) \\\n",
    "        .withColumn(\"distance\", F.split(df.value, \" \").getItem(1).cast(\"int\")) \\\n",
    "        .withColumn(\"dx\", F.when(F.col(\"direction\") == \"forward\", F.col(\"distance\")).otherwise(0)) \\\n",
    "        .withColumn(\"daim\", F.when(F.col(\"direction\") == \"down\", F.col(\"distance\"))\n",
    "                             .when(F.col(\"direction\") == \"up\", -1 * F.col(\"distance\"))\n",
    "                             .otherwise(0)\n",
    "        ) \\\n",
    "        .withColumn(\"idx\", F.row_number().over(Window.orderBy(F.lit(1)))) \\\n",
    "        .withColumn(\"aim\", F.sum(F.col(\"daim\")).over(Window.orderBy(F.col(\"idx\")))) \\\n",
    "        .withColumn(\"dy\", F.when(F.col(\"direction\") == \"forward\", F.col(\"aim\") * F.col(\"distance\")).otherwise(0)) \\\n",
    "        .agg(\n",
    "            F.sum(F.col(\"dx\")).alias(\"x\"),\n",
    "            F.sum(F.col(\"dy\")).alias(\"y\")\n",
    "        ) \\\n",
    "        .withColumn(\"solution\", F.col(\"x\") * F.col(\"y\")) \\\n",
    "        .collect()[0][2]\n",
    "\n",
    "assert part_2(df_test) == 900\n",
    "\n",
    "print(f\"Solution: {part_2(df)}\")"
   ]
  }
 ],
 "metadata": {
  "kernelspec": {
   "display_name": "Python 3 (ipykernel)",
   "language": "python",
   "name": "python3"
  },
  "language_info": {
   "codemirror_mode": {
    "name": "ipython",
    "version": 3
   },
   "file_extension": ".py",
   "mimetype": "text/x-python",
   "name": "python",
   "nbconvert_exporter": "python",
   "pygments_lexer": "ipython3",
   "version": "3.9.7"
  }
 },
 "nbformat": 4,
 "nbformat_minor": 5
}
