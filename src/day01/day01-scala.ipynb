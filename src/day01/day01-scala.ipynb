{
 "cells": [
  {
   "cell_type": "code",
   "execution_count": 5,
   "id": "9bc003e8",
   "metadata": {},
   "outputs": [
    {
     "ename": "<console>",
     "evalue": "26: error: object Window is not a member of package org.apache.spark.sql",
     "output_type": "error",
     "traceback": [
      "<console>:26: error: object Window is not a member of package org.apache.spark.sql",
      "       import org.apache.spark.sql.{SparkSession, DataFrame, functions => F, Window}",
      "              ^",
      ""
     ]
    }
   ],
   "source": [
    "import org.apache.spark.sql.{SparkSession, DataFrame, functions => F, Window}"
   ]
  },
  {
   "cell_type": "code",
   "execution_count": 2,
   "id": "12ed1bff",
   "metadata": {},
   "outputs": [
    {
     "data": {
      "text/plain": [
       "spark: org.apache.spark.sql.SparkSession = org.apache.spark.sql.SparkSession@12f06294\n"
      ]
     },
     "execution_count": 2,
     "metadata": {},
     "output_type": "execute_result"
    }
   ],
   "source": [
    "val spark = SparkSession\n",
    "    .builder()\n",
    "    .appName(\"advent-of-code-2021-spark\")\n",
    "    .master(\"local[*]\")\n",
    "    .getOrCreate()"
   ]
  },
  {
   "cell_type": "code",
   "execution_count": 3,
   "id": "6457a956",
   "metadata": {},
   "outputs": [
    {
     "data": {
      "text/plain": [
       "df_test: org.apache.spark.sql.DataFrame = [value: string]\n",
       "df: org.apache.spark.sql.DataFrame = [value: string]\n"
      ]
     },
     "execution_count": 3,
     "metadata": {},
     "output_type": "execute_result"
    }
   ],
   "source": [
    "val df_test = spark.read.text(\"test-input.txt\")\n",
    "val df = spark.read.text(\"input.txt\")"
   ]
  },
  {
   "cell_type": "code",
   "execution_count": null,
   "id": "b6480cb5",
   "metadata": {},
   "outputs": [],
   "source": [
    "// Part 1\n",
    "def part_1(df: DataFrame): Int = df.\n",
    "    .withColumn(\"lead\", F.lead(df.value).over(Window.orderBy(F.lit(1))))\n",
    "    .filter($\"lead\")"
   ]
  }
 ],
 "metadata": {
  "kernelspec": {
   "display_name": "spylon-kernel",
   "language": "scala",
   "name": "spylon-kernel"
  },
  "language_info": {
   "codemirror_mode": "text/x-scala",
   "file_extension": ".scala",
   "help_links": [
    {
     "text": "MetaKernel Magics",
     "url": "https://metakernel.readthedocs.io/en/latest/source/README.html"
    }
   ],
   "mimetype": "text/x-scala",
   "name": "scala",
   "pygments_lexer": "scala",
   "version": "0.4.1"
  }
 },
 "nbformat": 4,
 "nbformat_minor": 5
}
