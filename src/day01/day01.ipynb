{
 "cells": [
  {
   "cell_type": "code",
   "execution_count": 2,
   "id": "c9be54b0",
   "metadata": {},
   "outputs": [],
   "source": [
    "from pyspark.sql import SparkSession, functions as F, Window"
   ]
  },
  {
   "cell_type": "code",
   "execution_count": 3,
   "id": "6e83fcdb",
   "metadata": {},
   "outputs": [
    {
     "name": "stderr",
     "output_type": "stream",
     "text": [
      "WARNING: An illegal reflective access operation has occurred\n",
      "WARNING: Illegal reflective access by org.apache.spark.unsafe.Platform (file:/usr/local/spark-3.2.0-bin-hadoop3.2/jars/spark-unsafe_2.12-3.2.0.jar) to constructor java.nio.DirectByteBuffer(long,int)\n",
      "WARNING: Please consider reporting this to the maintainers of org.apache.spark.unsafe.Platform\n",
      "WARNING: Use --illegal-access=warn to enable warnings of further illegal reflective access operations\n",
      "WARNING: All illegal access operations will be denied in a future release\n",
      "Using Spark's default log4j profile: org/apache/spark/log4j-defaults.properties\n",
      "Setting default log level to \"WARN\".\n",
      "To adjust logging level use sc.setLogLevel(newLevel). For SparkR, use setLogLevel(newLevel).\n",
      "21/12/02 14:42:12 WARN NativeCodeLoader: Unable to load native-hadoop library for your platform... using builtin-java classes where applicable\n",
      "21/12/02 14:42:14 WARN Utils: Service 'SparkUI' could not bind on port 4040. Attempting port 4041.\n"
     ]
    }
   ],
   "source": [
    "spark = SparkSession \\\n",
    "            .builder \\\n",
    "            .appName(\"advent-of-code-2021\") \\\n",
    "            .getOrCreate()"
   ]
  },
  {
   "cell_type": "code",
   "execution_count": 4,
   "id": "a1e95b97",
   "metadata": {},
   "outputs": [],
   "source": [
    "df_test = spark.read.text(\"test-input.txt\")\n",
    "df = spark.read.text(\"input.txt\")"
   ]
  },
  {
   "cell_type": "code",
   "execution_count": 8,
   "id": "db5cb4ec",
   "metadata": {},
   "outputs": [
    {
     "name": "stderr",
     "output_type": "stream",
     "text": [
      "21/12/02 14:43:27 WARN WindowExec: No Partition Defined for Window operation! Moving all data to a single partition, this can cause serious performance degradation.\n",
      "21/12/02 14:43:27 WARN WindowExec: No Partition Defined for Window operation! Moving all data to a single partition, this can cause serious performance degradation.\n",
      "21/12/02 14:43:27 WARN WindowExec: No Partition Defined for Window operation! Moving all data to a single partition, this can cause serious performance degradation.\n",
      "21/12/02 14:43:28 WARN WindowExec: No Partition Defined for Window operation! Moving all data to a single partition, this can cause serious performance degradation.\n"
     ]
    },
    {
     "name": "stdout",
     "output_type": "stream",
     "text": [
      "Solution: 1665\n"
     ]
    }
   ],
   "source": [
    "# Part 1\n",
    "def part_1(df):\n",
    "    return df \\\n",
    "        .withColumn(\"lead\", F.lead(df.value).over(Window.orderBy(F.lit(1)))) \\\n",
    "        .filter(F.col(\"lead\").isNotNull()) \\\n",
    "        .withColumn(\"difference\", F.col(\"lead\") - F.col(\"value\")) \\\n",
    "        .filter(F.col(\"difference\") > 0) \\\n",
    "        .count()\n",
    "\n",
    "assert part_1(df_test) == 7\n",
    "\n",
    "print(f\"Solution: {part_1(df)}\")"
   ]
  },
  {
   "cell_type": "code",
   "execution_count": 9,
   "id": "cd9c9fac",
   "metadata": {},
   "outputs": [
    {
     "name": "stderr",
     "output_type": "stream",
     "text": [
      "21/12/02 14:44:23 WARN WindowExec: No Partition Defined for Window operation! Moving all data to a single partition, this can cause serious performance degradation.\n",
      "21/12/02 14:44:23 WARN WindowExec: No Partition Defined for Window operation! Moving all data to a single partition, this can cause serious performance degradation.\n",
      "21/12/02 14:44:24 WARN WindowExec: No Partition Defined for Window operation! Moving all data to a single partition, this can cause serious performance degradation.\n",
      "21/12/02 14:44:24 WARN WindowExec: No Partition Defined for Window operation! Moving all data to a single partition, this can cause serious performance degradation.\n"
     ]
    },
    {
     "name": "stdout",
     "output_type": "stream",
     "text": [
      "Solution: 1702\n"
     ]
    }
   ],
   "source": [
    "# Part 2\n",
    "def part_2(df):\n",
    "    return df \\\n",
    "        .withColumn(\"lead3\", F.lead(df.value, 3).over(Window.orderBy(F.lit(1)))) \\\n",
    "        .filter(F.col(\"lead3\").isNotNull()) \\\n",
    "        .withColumn(\"difference3\", F.col(\"lead3\") - F.col(\"value\")) \\\n",
    "        .filter(F.col(\"difference3\") > 0) \\\n",
    "        .count()\n",
    "\n",
    "assert part_2(df_test) == 5\n",
    "\n",
    "print(f\"Solution: {part_2(df)}\")"
   ]
  },
  {
   "cell_type": "code",
   "execution_count": null,
   "id": "c6ed6e75",
   "metadata": {},
   "outputs": [],
   "source": []
  }
 ],
 "metadata": {
  "kernelspec": {
   "display_name": "Python 3 (ipykernel)",
   "language": "python",
   "name": "python3"
  },
  "language_info": {
   "codemirror_mode": {
    "name": "ipython",
    "version": 3
   },
   "file_extension": ".py",
   "mimetype": "text/x-python",
   "name": "python",
   "nbconvert_exporter": "python",
   "pygments_lexer": "ipython3",
   "version": "3.9.7"
  }
 },
 "nbformat": 4,
 "nbformat_minor": 5
}
